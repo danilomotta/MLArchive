{
 "cells": [
  {
   "cell_type": "code",
   "execution_count": 1,
   "metadata": {},
   "outputs": [],
   "source": [
    "# for auto-reloading external modules\n",
    "# see http://stackoverflow.com/questions/1907993/autoreload-of-modules-in-ipython\n",
    "%load_ext autoreload\n",
    "%autoreload 2"
   ]
  },
  {
   "cell_type": "code",
   "execution_count": 2,
   "metadata": {},
   "outputs": [],
   "source": [
    "from sklearn.neural_network import MLPClassifier\n",
    "from sklearn.linear_model import LogisticRegression\n",
    "from sklearn.tree import DecisionTreeClassifier\n",
    "from sklearn.ensemble import RandomForestClassifier\n",
    "from sklearn.preprocessing import RobustScaler\n",
    "from sklearn.pipeline import Pipeline\n",
    "from sklearn.model_selection import cross_validate\n",
    "from sklearn.datasets import load_breast_cancer\n",
    "from ml_archive import MLArchive"
   ]
  },
  {
   "cell_type": "code",
   "execution_count": 3,
   "metadata": {},
   "outputs": [],
   "source": [
    "arch = MLArchive()"
   ]
  },
  {
   "cell_type": "code",
   "execution_count": 4,
   "metadata": {},
   "outputs": [],
   "source": [
    "X, y = load_breast_cancer(return_X_y=True)"
   ]
  },
  {
   "cell_type": "code",
   "execution_count": 5,
   "metadata": {},
   "outputs": [],
   "source": [
    "names = [\"Neural Net\", \"Log reg\", \"Random Forest\", \"Decision Tree\"]\n",
    "\n",
    "classifiers = [\n",
    "    Pipeline([('scaler', RobustScaler()),\n",
    "              ('mlp', MLPClassifier(alpha=0.5,\n",
    "                                    hidden_layer_sizes=(64,4),\n",
    "                                    activation='relu',\n",
    "                                    max_iter=100000,\n",
    "                                    validation_fraction=0.3,\n",
    "                                    early_stopping=True, \n",
    "                                    random_state=42))]),\n",
    "    LogisticRegression(C=0.0001,max_iter=10000, \n",
    "                 intercept_scaling=False,\n",
    "                 fit_intercept=False),\n",
    "    RandomForestClassifier(max_depth=8, n_estimators=50, \n",
    "                           max_samples=0.7, random_state=42),\n",
    "    DecisionTreeClassifier(max_depth=16),]"
   ]
  },
  {
   "cell_type": "code",
   "execution_count": 6,
   "metadata": {},
   "outputs": [
    {
     "name": "stdout",
     "output_type": "stream",
     "text": [
      "------------------------------------------------\n",
      "Neural Net train: .97\n",
      "Neural Net test: .96\n",
      "Model 26042020135051 added in position: 0\n",
      "------------------------------------------------\n",
      "Log reg train: .92\n",
      "Log reg test: .92\n",
      "Model 26042020135051 added in position: 0\n",
      "------------------------------------------------\n",
      "Random Forest train: 1.00\n",
      "Random Forest test: .96\n",
      "Model 26042020135052 added in position: 0\n",
      "------------------------------------------------\n",
      "Decision Tree train: 1.00\n",
      "Decision Tree test: .92\n",
      "Model 26042020135052 added in position: 0\n",
      "------------------------------------------------\n"
     ]
    }
   ],
   "source": [
    "# iterate over classifiers\n",
    "print('------------------------------------------------')\n",
    "for name, clf in zip(names, classifiers):\n",
    "    cv_results = cross_validate(clf, X, y, cv=5,\n",
    "                                return_train_score=True)\n",
    "    print(name + ' train: ' + ('%.2f' % cv_results['train_score'].mean()).lstrip('0'))\n",
    "    print(name + ' test: ' + ('%.2f' % cv_results['test_score'].mean()).lstrip('0'))\n",
    "    \n",
    "    # archive model\n",
    "    arch.save_model(clf, metric='F1', \n",
    "        train_res=cv_results['train_score'].mean(), \n",
    "        test_res=cv_results['test_score'].mean())\n",
    "    print('------------------------------------------------')\n",
    "# write archive\n",
    "arch.save_archive('MLModel.arch')"
   ]
  },
  {
   "cell_type": "code",
   "execution_count": 7,
   "metadata": {},
   "outputs": [
    {
     "data": {
      "text/html": [
       "<div>\n",
       "<style scoped>\n",
       "    .dataframe tbody tr th:only-of-type {\n",
       "        vertical-align: middle;\n",
       "    }\n",
       "\n",
       "    .dataframe tbody tr th {\n",
       "        vertical-align: top;\n",
       "    }\n",
       "\n",
       "    .dataframe thead th {\n",
       "        text-align: right;\n",
       "    }\n",
       "</style>\n",
       "<table border=\"1\" class=\"dataframe\">\n",
       "  <thead>\n",
       "    <tr style=\"text-align: right;\">\n",
       "      <th></th>\n",
       "      <th>id</th>\n",
       "      <th>technique</th>\n",
       "      <th>model</th>\n",
       "      <th>metric</th>\n",
       "      <th>date</th>\n",
       "      <th>train_res</th>\n",
       "      <th>devel_res</th>\n",
       "      <th>test_res</th>\n",
       "    </tr>\n",
       "  </thead>\n",
       "  <tbody>\n",
       "    <tr>\n",
       "      <th>0</th>\n",
       "      <td>26042020135052</td>\n",
       "      <td>RandomForestClassifier</td>\n",
       "      <td>RandomForestClassifier(bootstrap=True, ccp_alp...</td>\n",
       "      <td>F1</td>\n",
       "      <td>26/04/2020 13:50:52</td>\n",
       "      <td>0.996484</td>\n",
       "      <td>None</td>\n",
       "      <td>0.959587</td>\n",
       "    </tr>\n",
       "    <tr>\n",
       "      <th>1</th>\n",
       "      <td>26042020135051</td>\n",
       "      <td>MLPClassifier</td>\n",
       "      <td>(RobustScaler(copy=True, quantile_range=(25.0,...</td>\n",
       "      <td>F1</td>\n",
       "      <td>26/04/2020 13:50:51</td>\n",
       "      <td>0.968366</td>\n",
       "      <td>None</td>\n",
       "      <td>0.957848</td>\n",
       "    </tr>\n",
       "    <tr>\n",
       "      <th>2</th>\n",
       "      <td>26042020135051</td>\n",
       "      <td>LogisticRegression</td>\n",
       "      <td>LogisticRegression(C=0.0001, class_weight=None...</td>\n",
       "      <td>F1</td>\n",
       "      <td>26/04/2020 13:50:51</td>\n",
       "      <td>0.921792</td>\n",
       "      <td>None</td>\n",
       "      <td>0.922652</td>\n",
       "    </tr>\n",
       "    <tr>\n",
       "      <th>3</th>\n",
       "      <td>26042020135052</td>\n",
       "      <td>DecisionTreeClassifier</td>\n",
       "      <td>DecisionTreeClassifier(ccp_alpha=0.0, class_we...</td>\n",
       "      <td>F1</td>\n",
       "      <td>26/04/2020 13:50:52</td>\n",
       "      <td>1.000000</td>\n",
       "      <td>None</td>\n",
       "      <td>0.917373</td>\n",
       "    </tr>\n",
       "  </tbody>\n",
       "</table>\n",
       "</div>"
      ],
      "text/plain": [
       "               id               technique  \\\n",
       "0  26042020135052  RandomForestClassifier   \n",
       "1  26042020135051           MLPClassifier   \n",
       "2  26042020135051      LogisticRegression   \n",
       "3  26042020135052  DecisionTreeClassifier   \n",
       "\n",
       "                                               model metric  \\\n",
       "0  RandomForestClassifier(bootstrap=True, ccp_alp...     F1   \n",
       "1  (RobustScaler(copy=True, quantile_range=(25.0,...     F1   \n",
       "2  LogisticRegression(C=0.0001, class_weight=None...     F1   \n",
       "3  DecisionTreeClassifier(ccp_alpha=0.0, class_we...     F1   \n",
       "\n",
       "                  date  train_res devel_res  test_res  \n",
       "0  26/04/2020 13:50:52   0.996484      None  0.959587  \n",
       "1  26/04/2020 13:50:51   0.968366      None  0.957848  \n",
       "2  26/04/2020 13:50:51   0.921792      None  0.922652  \n",
       "3  26/04/2020 13:50:52   1.000000      None  0.917373  "
      ]
     },
     "execution_count": 7,
     "metadata": {},
     "output_type": "execute_result"
    }
   ],
   "source": [
    "arch.get_ranked_models()"
   ]
  }
 ],
 "metadata": {
  "kernelspec": {
   "display_name": "Python 3",
   "language": "python",
   "name": "python3"
  },
  "language_info": {
   "codemirror_mode": {
    "name": "ipython",
    "version": 3
   },
   "file_extension": ".py",
   "mimetype": "text/x-python",
   "name": "python",
   "nbconvert_exporter": "python",
   "pygments_lexer": "ipython3",
   "version": "3.7.6"
  }
 },
 "nbformat": 4,
 "nbformat_minor": 4
}
